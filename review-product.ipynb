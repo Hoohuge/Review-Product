{
 "cells": [
  {
   "cell_type": "markdown",
   "source": [
    "### Final Script"
   ],
   "metadata": {
    "collapsed": false,
    "pycharm": {
     "name": "#%% md\n"
    }
   }
  },
  {
   "cell_type": "code",
   "execution_count": 81,
   "outputs": [],
   "source": [
    "import os\n",
    "import pandas as pd\n",
    "import pymysql\n",
    "\n",
    "symptomsDf = pd.read_csv('./symptom_product.csv')\n",
    "diseasesDf = pd.read_csv('./disease_product.csv')\n",
    "\n",
    "csvs = [symptomsDf, diseasesDf]\n",
    "\n",
    "def get_total_dict(read_csv):\n",
    "    category_product_dict = dict()\n",
    "    for csv_file in read_csv:\n",
    "        categories =list(filter(lambda s: not pd.isna(s), csv_file['분류']))\n",
    "        product_id_semi = csv_file['상품 id'].tolist()\n",
    "        get_category_product_dict(categories, product_id_semi, category_product_dict)\n",
    "    return category_product_dict\n",
    "\n",
    "def get_category_product_dict(categories, product_id_semi, category_product_dict):\n",
    "    if len(product_id_semi) % 12 == 0:\n",
    "        for product_id in range(0, len(product_id_semi), 12):\n",
    "            category_product_dict[categories[product_id // 12]] = product_id_semi[product_id: product_id + 12]\n",
    "        return category_product_dict\n",
    "\n",
    "def get_total_result(result_dict):\n",
    "    result = []\n",
    "    i = 1\n",
    "    for key, value in result_dict.items():\n",
    "        for prod_id in value:\n",
    "            result.append([i, key, prod_id])\n",
    "            i += 1\n",
    "    return result\n",
    "\n",
    "total_result_dict = get_total_dict(csvs)\n",
    "total_result_list = get_total_result(total_result_dict)\n",
    "df_total_result = pd.DataFrame(total_result_list)\n",
    "df_total_result.to_csv(\"product_category.csv\", index=False)\n"
   ],
   "metadata": {
    "collapsed": false,
    "pycharm": {
     "name": "#%%\n"
    }
   }
  },
  {
   "cell_type": "markdown",
   "source": [
    "### RDS Connection"
   ],
   "metadata": {
    "collapsed": false,
    "pycharm": {
     "name": "#%% md\n"
    }
   }
  },
  {
   "cell_type": "code",
   "execution_count": 52,
   "outputs": [],
   "source": [
    "# def get_database_connection():\n",
    "#     return pymysql.connect(\n",
    "#         user='was-petcare-write',\n",
    "#         passwd='cq#U-4cpZCYFHpJS',\n",
    "#         host='localhost',\n",
    "#         db='fitpetdoc',\n",
    "#         port=5306,\n",
    "#         charset='utf8mb4'\n",
    "#     )\n",
    "def fetch_result():\n",
    "    # global cursor, sql\n",
    "\n",
    "    def get_database_connection():\n",
    "        return pymysql.connect(\n",
    "            user='was-petcare-write',\n",
    "            passwd='cq#U-4cpZCYFHpJS',\n",
    "            host='localhost',\n",
    "            db='fitpetdoc',\n",
    "            port=5306,\n",
    "            charset='utf8mb4'\n",
    "        )\n",
    "\n",
    "    cursor = get_database_connection().cursor()\n",
    "    sql = \"select csc.name, csc.id, cs.name, cs.id from core_symptom cs inner join core_symptomcategory csc on csc.id = cs.category_id\"\n",
    "    cursor.execute(sql)\n",
    "    return cursor.fetchall()\n",
    "\n",
    "# print('카테고리', '카테고리_아이디', '증상/질병', '증상/질병_아이디', '상품_아이디', 'tag')\n",
    "# id = 1\n",
    "# result_list = []\n",
    "# fetchall = fetch_result()\n",
    "# category_product_id_dict = get_category_product_id()\n",
    "# for i in fetchall:\n",
    "#     try:\n",
    "#         category = i[0]\n",
    "#         for product_id in category_product_id_dict[category]:\n",
    "#             result_list.append([id, i[0], i[1], i[2], i[3], product_id, 'symptom'])\n",
    "#             id += 1\n",
    "#     except KeyError:\n",
    "#         pass\n",
    "#\n",
    "# index_df = [i for i in range(1, len(result_list) + 1)]\n",
    "# df = DataFrame(result_list,\n",
    "#                columns=['id', 'category', 'category_id', 'symptoms_disease', 'symptom_disease_id', 'product_id', 'tag'],\n",
    "#                index=index_df)\n",
    "# df"
   ],
   "metadata": {
    "collapsed": false,
    "pycharm": {
     "name": "#%%\n"
    }
   }
  },
  {
   "cell_type": "code",
   "execution_count": 58,
   "outputs": [],
   "source": [
    "# # 여기서 aurora db 커넥션 맺을 수 있나?\n",
    "# \"\"\"\n",
    "# 증상 카테고리 별 상품 아이디 12개를 할당\n",
    "# review_product 테이블\n",
    "# - category 로 조회\n",
    "# -> category 에 속하는 symptom/disease 반환\n",
    "# -> 해당 symptom/disease 마다 열두개의 12할당.(여기가 어렵다. 어떻게 하나 짜리 row 를 12개로 복제하지)\n",
    "# \"\"\"\n",
    "#\n",
    "# # What to do\n",
    "#\n",
    "#\n",
    "# # 터널링으로 접근하기 때문에 호스트는 localhost 지정한다.\n",
    "# rds_connector = pymysql.connect(\n",
    "#     user='was-petcare-write',\n",
    "#     passwd='cq#U-4cpZCYFHpJS',\n",
    "#     host='localhost',\n",
    "#     db='fitpetdoc',\n",
    "#     port=5306,\n",
    "#     charset='utf8mb4'\n",
    "# )\n",
    "#\n",
    "# curs = rds_connector.cursor()\n",
    "# sql = \"select * from review_product where tag = 'symptom' order by category, symptom_disease limit 5\"\n",
    "#\n",
    "# curs.execute(sql)\n",
    "# review_product_all = curs.fetchall()\n",
    "#\n",
    "# result = pd.DataFrame(review_product_all)\n",
    "# result\n",
    "\n",
    "#id, category_id, category, symptom_disease_id, symptom_disease, product_id, tag"
   ],
   "metadata": {
    "collapsed": false,
    "pycharm": {
     "name": "#%%\n"
    }
   }
  },
  {
   "cell_type": "code",
   "execution_count": 59,
   "outputs": [],
   "source": [
    "# cursor = rds_connector.cursor()\n",
    "# sql = \"select csc.name, csc.id, cs.name, cs.id from core_symptom cs inner join core_symptomcategory csc on csc.id = cs.category_id\"\n",
    "# cursor.execute(sql)\n",
    "# fetchall = cursor.fetchall()\n",
    "# # print('카테고리', '카테고리_아이디', '증상/질병', '증상/질병_아이디', '상품_아이디', 'tag')\n",
    "# id = 1\n",
    "# result_list = []\n",
    "# for i in fetchall:\n",
    "#     try:\n",
    "#         for product_id in symptom_product_id_dict[i[0]]:\n",
    "#             result_list.append([id, i[0], i[1], i[2], i[3], product_id, 'symptom'])\n",
    "#             id += 1\n",
    "#     except KeyError:\n",
    "#         pass\n",
    "#\n",
    "# index_df = [i for i in range(1, len(result_list) + 1)]\n",
    "# df = DataFrame(result_list,\n",
    "#                columns=['id', 'category', 'category_id', 'symptoms_disease', 'symptom_disease_id', 'product_id', 'tag'],\n",
    "#                index=index_df)\n",
    "# df"
   ],
   "metadata": {
    "collapsed": false,
    "pycharm": {
     "name": "#%%\n"
    }
   }
  },
  {
   "cell_type": "markdown",
   "source": [
    "### Markdowntownbaby\n",
    "\n",
    "\n",
    "1. 지금은 이미 증상/질환이 12개씩 생성된 상태\n",
    "2. 이걸 다 날리고 새로 만드는게 나을까, 아니면 기존것에서 업데이트 치는게 낫겠니.\n",
    "\n",
    "3. 일단 기존 테이블은 그대로 두고, 별도의 테이블 생성해서 테스트하자.\n",
    "4.\n",
    "\n",
    "\n"
   ],
   "metadata": {
    "collapsed": false,
    "pycharm": {
     "name": "#%% md\n"
    }
   }
  },
  {
   "cell_type": "code",
   "execution_count": 11,
   "outputs": [
    {
     "name": "stdout",
     "output_type": "stream",
     "text": [
      "질환없음\n",
      "내분비계\n",
      "코/호흡기\n",
      "기타\n",
      "소화기배변\n",
      "호흡기\n",
      "뇌신경\n",
      "생식기비뇨\n",
      "피부\n",
      "비뇨기\n",
      "신체변화\n",
      "행동변화\n",
      "다리\n",
      "생식기\n",
      "검진접종\n",
      "치아구강\n",
      "코\n",
      "소화기\n",
      "눈\n",
      "귀\n",
      "증상없음\n",
      "뼈관절\n",
      "심장혈관\n"
     ]
    }
   ],
   "source": [
    "result_ = ['눈',\n",
    "           '코/호흡기',\n",
    "           '치아구강',\n",
    "           '다리',\n",
    "           '피부',\n",
    "           '소화기배변',\n",
    "           '생식기비뇨',\n",
    "           '행동변화',\n",
    "           '신체변화',\n",
    "           '기타',\n",
    "           '증상없음',\n",
    "           '코',\n",
    "           '호흡기',\n",
    "           '귀',\n",
    "           '눈',\n",
    "           '호흡기',\n",
    "           '치아구강',\n",
    "           '뼈관절',\n",
    "           '피부',\n",
    "           '비뇨기',\n",
    "           '소화기',\n",
    "           '생식기',\n",
    "           '심장혈관',\n",
    "           '내분비계',\n",
    "           '뇌신경',\n",
    "           '기타',\n",
    "           '귀',\n",
    "           '검진접종',\n",
    "           '질환없음']\n",
    "\n",
    "for r in set(result_):\n",
    "    print(r)"
   ],
   "metadata": {
    "collapsed": false,
    "pycharm": {
     "name": "#%%\n"
    }
   }
  },
  {
   "cell_type": "code",
   "execution_count": null,
   "outputs": [],
   "source": [],
   "metadata": {
    "collapsed": false,
    "pycharm": {
     "name": "#%%\n"
    }
   }
  }
 ],
 "metadata": {
  "kernelspec": {
   "display_name": "Python 3",
   "language": "python",
   "name": "python3"
  },
  "language_info": {
   "codemirror_mode": {
    "name": "ipython",
    "version": 2
   },
   "file_extension": ".py",
   "mimetype": "text/x-python",
   "name": "python",
   "nbconvert_exporter": "python",
   "pygments_lexer": "ipython2",
   "version": "2.7.6"
  }
 },
 "nbformat": 4,
 "nbformat_minor": 0
}